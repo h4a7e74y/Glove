{
 "cells": [
  {
   "cell_type": "code",
   "execution_count": 172,
   "metadata": {},
   "outputs": [],
   "source": [
    "#Асанов Ильяс\n",
    "from torch.autograd import Variable\n",
    "import matplotlib.pyplot as plt\n",
    "import numpy as np\n",
    "import torch\n",
    "import torch.optim as optim"
   ]
  },
  {
   "cell_type": "code",
   "execution_count": 173,
   "metadata": {},
   "outputs": [],
   "source": [
    "context_size = 3\n",
    "embed_size = 2\n",
    "xmax = 2\n",
    "alpha = 0.75\n",
    "batch_size = 20\n",
    "l_rate = 0.001\n",
    "num_epochs = 10"
   ]
  },
  {
   "cell_type": "code",
   "execution_count": 174,
   "metadata": {},
   "outputs": [],
   "source": [
    "corpus = [\n",
    "    \"Dexter is an American television crime drama mystery series that aired on Showtime from October 1, 2006, to September 22, 2013.[1] Set in Miami, the series centers on Dexter Morgan (Michael C. Hall), a forensic technician specializing in blood spatter pattern analysis for the fictional Miami Metro Police Department, who leads a secret parallel life as a vigilante serial killer, hunting down murderers who have slipped through the cracks of the justice system. The show's first season was derived from the novel Darkly Dreaming Dexter (2004), the first in a series of novels by Jeff Lindsay. It was adapted for television by screenwriter James Manos Jr., who wrote the first episode. Subsequent seasons evolved independently of Lindsay's works.\"\n",
    "    \"In February 2008, reruns (edited down to a TV-14 rating) began to air on CBS in the wake of the shortage of original programming ensuing from the 2007–2008 Writers Guild of America strike, thus the reruns on CBS ended after one run of the first season. The series enjoyed mostly positive reviews throughout its run and popularity. The first four seasons have received universal acclaim, although reception dropped drastically as the series progressed. The show has also won many awards, including two Golden Globe awards won by Michael C. Hall and John Lithgow for their roles as Dexter Morgan and Arthur Mitchell, respectively. Season four aired its season finale on December 13, 2009, to a record-breaking audience of 2.6 million viewers, making it the most-watched original series episode ever on Showtime at that time.\"\n",
    "]"
   ]
  },
  {
   "cell_type": "code",
   "execution_count": 175,
   "metadata": {},
   "outputs": [],
   "source": [
    "#делит корпус с предложениями на токены слов\n",
    "tokens = []\n",
    "for i in range(len(corpus)):\n",
    "    sents = corpus[i].split(\".\")\n",
    "    for j in range(len(sents)):\n",
    "        tokens = tokens +sents[j].lower().split(\" \")"
   ]
  },
  {
   "cell_type": "code",
   "execution_count": 176,
   "metadata": {},
   "outputs": [],
   "source": [
    "#словарь удаляет повторяющиеся слова, но нарушает порядок\n",
    "my_dict = list(set(tokens))"
   ]
  },
  {
   "cell_type": "code",
   "execution_count": 177,
   "metadata": {},
   "outputs": [],
   "source": [
    "#восстановливает порядок с помощью присваивания индексов в соответствии с номером\n",
    "word2idx={}\n",
    "idx2word={}\n",
    "for ind,token in enumerate(my_dict):\n",
    "    word2idx[token]=ind\n",
    "    idx2word[ind]=token"
   ]
  },
  {
   "cell_type": "code",
   "execution_count": 178,
   "metadata": {},
   "outputs": [],
   "source": [
    "#создаёт словарь совстречаемости слов\n",
    "ss=len(my_dict)\n",
    "#создаёт матрицу из нулей квадратной размерности словаря\n",
    "zero_matrix=np.zeros((ss,ss))\n",
    "#прибавляет 1 в случае \"встречи\" слов\n",
    "for idx in range (len(tokens)-1):\n",
    "    ind1 = word2idx[tokens[idx]]\n",
    "    ind2 = word2idx[tokens[idx+1]]\n",
    "    #print(tokens[idx],tokens[idx+1])\n",
    "    zero_matrix[ind1,ind2]+=1"
   ]
  },
  {
   "cell_type": "code",
   "execution_count": 179,
   "metadata": {},
   "outputs": [],
   "source": [
    "#транспонирует матрицу совстречаемости и выбирает не нулевые элементы\n",
    "coocs = np.transpose(np.nonzero(zero_matrix))"
   ]
  },
  {
   "cell_type": "code",
   "execution_count": 180,
   "metadata": {},
   "outputs": [],
   "source": [
    "#функция выцисления нового \"веса\"\n",
    "def wf(x):\n",
    "    if x < xmax:\n",
    "        return (x/xmax)**alpha\n",
    "    return 1"
   ]
  },
  {
   "cell_type": "code",
   "execution_count": 181,
   "metadata": {},
   "outputs": [],
   "source": [
    "#вычисление размеров словаря(без дубликатов) и колличества исходных слов\n",
    "vocab_size=len(my_dict)\n",
    "w_list_size=len(tokens)\n",
    "\n",
    "#настройка векторов и biases\n",
    "l_embed, r_embed = [\n",
    "    [Variable(torch.from_numpy(np.random.normal(0, 0.01, (embed_size, 1))),\n",
    "        requires_grad = True) for j in range(vocab_size)] for i in range(2)]\n",
    "l_biases, r_biases = [\n",
    "    [Variable(torch.from_numpy(np.random.normal(0, 0.01, 1)), \n",
    "        requires_grad = True) for j in range(vocab_size)] for i in range(2)]\n",
    "optimizer = optim.Adam(l_embed + r_embed + l_biases + r_biases, lr = l_rate)"
   ]
  },
  {
   "cell_type": "code",
   "execution_count": 182,
   "metadata": {},
   "outputs": [],
   "source": [
    "# преобразование векторов\n",
    "def gen_batch():\n",
    "    sample = np.random.choice(np.arange(len(coocs)), size=batch_size, replace=False)\n",
    "    l_vecs, r_vecs, covals, l_v_bias, r_v_bias = [], [], [], [], []\n",
    "    for chosen in sample:\n",
    "        ind = tuple(coocs[chosen])\n",
    "        l_vecs.append(l_embed[ind[0]])\n",
    "        r_vecs.append(r_embed[ind[1]])\n",
    "        covals.append(zero_matrix[ind])\n",
    "        l_v_bias.append(l_biases[ind[0]])\n",
    "        r_v_bias.append(r_biases[ind[1]])\n",
    "    return l_vecs, r_vecs, covals, l_v_bias, r_v_bias"
   ]
  },
  {
   "cell_type": "code",
   "execution_count": 183,
   "metadata": {},
   "outputs": [
    {
     "name": "stdout",
     "output_type": "stream",
     "text": [
      "Average loss for epoch 1:  tensor(0.8308, dtype=torch.float64)\n",
      "Average loss for epoch 2:  tensor(1.2964, dtype=torch.float64)\n",
      "Average loss for epoch 3:  tensor(0.4417, dtype=torch.float64)\n",
      "Average loss for epoch 4:  tensor(0.9234, dtype=torch.float64)\n",
      "Average loss for epoch 5:  tensor(0.8378, dtype=torch.float64)\n",
      "Average loss for epoch 6:  tensor(0.5850, dtype=torch.float64)\n",
      "Average loss for epoch 7:  tensor(1.0978, dtype=torch.float64)\n",
      "Average loss for epoch 8:  tensor(0.6957, dtype=torch.float64)\n",
      "Average loss for epoch 9:  tensor(0.8050, dtype=torch.float64)\n",
      "Average loss for epoch 10:  tensor(0.8060, dtype=torch.float64)\n"
     ]
    }
   ],
   "source": [
    "# обучение\n",
    "for epoch in range(num_epochs):\n",
    "    num_batches = int(w_list_size/batch_size)\n",
    "    avg_loss = 0.0\n",
    "    for batch in range(num_batches):\n",
    "        optimizer.zero_grad()\n",
    "        l_vecs, r_vecs, covals, l_v_bias, r_v_bias = gen_batch()\n",
    "        loss = sum([torch.mul((torch.dot(l_vecs[i].view(-1), r_vecs[i].view(-1)) +\n",
    "                l_v_bias[i] + r_v_bias[i] - np.log(covals[i]))**2,\n",
    "                wf(covals[i])) for i in range(batch_size)])\n",
    "        avg_loss += loss.data[0]/num_batches\n",
    "        loss.backward()\n",
    "        optimizer.step()\n",
    "    print(\"Average loss for epoch \"+str(epoch+1)+\": \", avg_loss)"
   ]
  },
  {
   "cell_type": "code",
   "execution_count": 184,
   "metadata": {},
   "outputs": [
    {
     "data": {
      "image/png": "[encoded data removed]",
      "text/plain": [
       "<Figure size 432x288 with 1 Axes>"
      ]
     },
     "metadata": {
      "needs_background": "light"
     },
     "output_type": "display_data"
    }
   ],
   "source": [
    "# Визуализация\n",
    "%matplotlib inline\n",
    "if embed_size == 2:\n",
    "    #выбирает случайные слова для визуализации\n",
    "    word_inds = np.random.choice(np.arange(len(my_dict)), size=10, replace=False)\n",
    "    for word_ind in word_inds:\n",
    "        # складывает вектора правого и левого слова\n",
    "        w_embed = (l_embed[word_ind].data + r_embed[word_ind].data).numpy()\n",
    "        x, y = w_embed[0][0], w_embed[1][0]\n",
    "        plt.scatter(x, y)\n",
    "        plt.annotate(my_dict[word_ind], xy=(x, y), xytext=(5, 2),\n",
    "            textcoords='offset points', ha='right', va='bottom')\n",
    "    plt.show()"
   ]
  },
  {
   "cell_type": "code",
   "execution_count": null,
   "metadata": {},
   "outputs": [],
   "source": []
  }
 ],
 "metadata": {
  "kernelspec": {
   "display_name": "Python 3",
   "language": "python",
   "name": "python3"
  },
  "language_info": {
   "codemirror_mode": {
    "name": "ipython",
    "version": 3
   },
   "file_extension": ".py",
   "mimetype": "text/x-python",
   "name": "python",
   "nbconvert_exporter": "python",
   "pygments_lexer": "ipython3",
   "version": "3.7.3"
  }
 },
 "nbformat": 4,
 "nbformat_minor": 4
}
